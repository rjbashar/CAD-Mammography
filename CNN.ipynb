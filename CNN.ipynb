{
  "nbformat": 4,
  "nbformat_minor": 0,
  "metadata": {
    "colab": {
      "name": "CNN.ipynb",
      "version": "0.3.2",
      "provenance": [],
      "collapsed_sections": [],
      "include_colab_link": true
    },
    "kernelspec": {
      "name": "python3",
      "display_name": "Python 3"
    },
    "accelerator": "GPU"
  },
  "cells": [
    {
      "cell_type": "markdown",
      "metadata": {
        "id": "view-in-github",
        "colab_type": "text"
      },
      "source": [
        "<a href=\"https://colab.research.google.com/github/stiflerGit/CAD-Mammography/blob/master/CNN.ipynb\" target=\"_parent\"><img src=\"https://colab.research.google.com/assets/colab-badge.svg\" alt=\"Open In Colab\"/></a>"
      ]
    },
    {
      "metadata": {
        "id": "BES2lVLsPLKQ",
        "colab_type": "code",
        "outputId": "22787bc9-5a43-485e-f774-bca906d144ae",
        "colab": {
          "base_uri": "https://localhost:8080/",
          "height": 35
        }
      },
      "cell_type": "code",
      "source": [
        "import numpy as np\n",
        "from google.colab import drive\n",
        "import os\n",
        "drive.mount('/content/drive')\n",
        "\n",
        "work_dir = \"./drive/My Drive/CNN/\"\n",
        "if not os.path.exists(work_dir):\n",
        "  os.makedirs(work_dir)"
      ],
      "execution_count": 1,
      "outputs": [
        {
          "output_type": "stream",
          "text": [
            "Drive already mounted at /content/drive; to attempt to forcibly remount, call drive.mount(\"/content/drive\", force_remount=True).\n"
          ],
          "name": "stdout"
        }
      ]
    },
    {
      "metadata": {
        "id": "7AhcIHZFshUs",
        "colab_type": "code",
        "colab": {}
      },
      "cell_type": "code",
      "source": [
        "# CONSTANTS\n",
        "\n",
        "VERSION = '0.0.1'\n",
        "\n",
        "DATASET_PATH  = '/content/drive/My Drive/CI_FinalProject/'\n",
        "IMAGE_SIZE    = (224, 224)\n",
        "NUM_CLASSES   = 2\n",
        "BATCH_SIZE    = 32 \n",
        "NUM_EPOCHS    = 2\n",
        "MODEL_FINAL = 'PT-CNN%s.h5' % VERSION\n",
        "\n",
        "val_split = 0.2\n",
        "\n",
        "TRAIN_IMGS_FILE_NAME = 'train_img_%d.npy' % IMAGE_SIZE[0]\n",
        "TRAIN_LABELS_FILE_NAME = 'train_lab.npy'\n",
        "TEST_IMGS_FILE_NAME = 'public_test_image_%d.npy' % IMAGE_SIZE[0]\n",
        "TEST_LABELS_FILE_NAME = 'public_test_label.npy'"
      ],
      "execution_count": 0,
      "outputs": []
    },
    {
      "metadata": {
        "id": "PQsRY1kKPTmU",
        "colab_type": "code",
        "outputId": "cc5e7c15-230f-499b-d25c-e45e6f8aed0f",
        "colab": {
          "base_uri": "https://localhost:8080/",
          "height": 53
        }
      },
      "cell_type": "code",
      "source": [
        "# PRE-PROCESS DATASET\n",
        "\n",
        "import numpy as np\n",
        "from sklearn.model_selection import train_test_split\n",
        "\n",
        "train_gray_imgs = np.load(\"/content/drive/My Drive/CI_FinalProject/train_img_224.npy\")\n",
        "train_lbls = np.load(\"drive/My Drive/CI_FinalProject/train_lab.npy\")\n",
        "\n",
        "print(train_lbls.shape) # 2864 images (it is a quite small dataset)\n",
        "print(np.count_nonzero(train_lbls)) # 1546 \n",
        "# 1546 images belong to class 1, this means 1318 images belong to class 0\n",
        "# so our class distribution is good\n",
        "\n",
        "# we have to equally distribute otherwise the error:\n",
        "### Training and validation subsets have different number of classes after the \n",
        "### split. If your numpy arrays are sorted by the label, you might want to shuffle them.\n",
        "# could be raised. This is due to the distribution of classes of the labels.\n",
        "# for example after the split, the training labels set contains both class 1 and 2,\n",
        "# and on the other hand validation labels set contains either class 1 or class 2.\n",
        "# Even if the train data would cointain both the classes it's better to equally \n",
        "# distribute the two classes over the sets.\n",
        "X_train, X_val, y_train, y_val = train_test_split(train_gray_imgs, train_lbls,\n",
        "                                                  test_size=val_split, \n",
        "                                                  stratify=train_lbls)\n",
        "\n",
        "X = np.concatenate((X_train, X_val))\n",
        "y = np.concatenate((y_train, y_val))\n",
        "\n",
        "train_samples = len(X_train)\n",
        "valid_samples = len(X_val)\n",
        "\n",
        "del(X_train, X_val)\n",
        "del(y_train, y_val)\n",
        "\n",
        "# this is done to transform the gray imgs into rgb images\n",
        "# X = X.astype('float32')/65536\n",
        "X = np.stack((X,)*3, axis=-1)\n",
        "\n",
        "del(train_gray_imgs)\n",
        "del(train_lbls)\n",
        "\n",
        "test_gray_imgs = np.load(\"drive/My Drive/CI_FinalProject/public_test_image_224.npy\")\n",
        "test_rgb_imgs = np.stack((test_gray_imgs,)*3, axis=-1)\n",
        "test_lbls = np.load(\"drive/My Drive/CI_FinalProject/public_test_label.npy\")\n",
        "\n",
        "del(test_gray_imgs)"
      ],
      "execution_count": 3,
      "outputs": [
        {
          "output_type": "stream",
          "text": [
            "(2864,)\n",
            "1546\n"
          ],
          "name": "stdout"
        }
      ]
    },
    {
      "metadata": {
        "id": "egoXVIdHkLOZ",
        "colab_type": "code",
        "outputId": "80b73fd4-9911-43f1-d9fb-00edbf5b8a98",
        "colab": {
          "base_uri": "https://localhost:8080/",
          "height": 35
        }
      },
      "cell_type": "code",
      "source": [
        "# PRE-PROCESS DATASET \n",
        "\n",
        "from keras.preprocessing.image import ImageDataGenerator\n",
        "\n",
        "train_datagen = ImageDataGenerator(\n",
        "    rotation_range=15, \n",
        "#     zoom_range=[1.5, 0], \n",
        "    rescale=1./65536, \n",
        "    horizontal_flip=True, vertical_flip=True, \n",
        "    validation_split=val_split)\n",
        "\n",
        "train_iterator = train_datagen.flow(X, y, batch_size=BATCH_SIZE, subset='training')\n",
        "\n",
        "validation_iterator = train_datagen.flow(X, y, batch_size=BATCH_SIZE, subset='validation')\n",
        "\n",
        "test_datagen = ImageDataGenerator(\n",
        "    rescale=1./65536, \n",
        "    horizontal_flip=True, vertical_flip=True)\n",
        "\n",
        "test_iterator = test_datagen.flow(test_rgb_imgs, test_lbls, batch_size=BATCH_SIZE)"
      ],
      "execution_count": 4,
      "outputs": [
        {
          "output_type": "stream",
          "text": [
            "Using TensorFlow backend.\n"
          ],
          "name": "stderr"
        }
      ]
    },
    {
      "metadata": {
        "id": "fa77QlUMpDc5",
        "colab_type": "text"
      },
      "cell_type": "markdown",
      "source": [
        ""
      ]
    },
    {
      "metadata": {
        "id": "GWdVLlFX7gEp",
        "colab_type": "code",
        "outputId": "8e55e627-6b2c-412c-bd50-87dbe3ca4370",
        "colab": {
          "base_uri": "https://localhost:8080/",
          "height": 462
        }
      },
      "cell_type": "code",
      "source": [
        "# MODEL DEFINITION\n",
        "\n",
        "from keras import layers\n",
        "from keras import models\n",
        "from keras import regularizers\n",
        "\n",
        "model = models.Sequential()\n",
        "# LAYER 1\n",
        "model.add(layers.Conv2D(32, (3, 3), activation='relu',\n",
        "                        input_shape=(IMAGE_SIZE[0], IMAGE_SIZE[1], 3)))\n",
        "model.add(layers.MaxPooling2D((2, 2)))\n",
        "# LAYER 2\n",
        "model.add(layers.Conv2D(64, (3, 3), activation='relu'))\n",
        "model.add(layers.MaxPooling2D((2, 2)))\n",
        "# LAYER 3\n",
        "model.add(layers.Conv2D(128, (3, 3), activation='relu'))\n",
        "model.add(layers.MaxPooling2D((2, 2)))\n",
        "# # LAYER 4\n",
        "# model.add(layers.Conv2D(128, (3, 3), activation='relu'))\n",
        "# model.add(layers.MaxPooling2D((2, 2)))\n",
        "\n",
        "model.add(layers.Flatten())\n",
        "# model.add(layers.BatchNormalization())\n",
        "# with 1024 seems a lot more stable but start overfitting\n",
        "model.add(layers.Dense(512, activation='relu'))\n",
        "# model.add(layers.Dropout(rate=0.2))\n",
        "# model.add(layers.Dense(512, activation='relu'))\n",
        "\n",
        "model.add(layers.Dense(NUM_CLASSES, activation='softmax', name='softmax')) # model.add(layers.Dense(1, activation='sigmoid')) # for 1,0 output\n",
        "\n",
        "####\n",
        "\n",
        "model.summary()"
      ],
      "execution_count": 6,
      "outputs": [
        {
          "output_type": "stream",
          "text": [
            "_________________________________________________________________\n",
            "Layer (type)                 Output Shape              Param #   \n",
            "=================================================================\n",
            "conv2d_4 (Conv2D)            (None, 222, 222, 32)      896       \n",
            "_________________________________________________________________\n",
            "max_pooling2d_4 (MaxPooling2 (None, 111, 111, 32)      0         \n",
            "_________________________________________________________________\n",
            "conv2d_5 (Conv2D)            (None, 109, 109, 64)      18496     \n",
            "_________________________________________________________________\n",
            "max_pooling2d_5 (MaxPooling2 (None, 54, 54, 64)        0         \n",
            "_________________________________________________________________\n",
            "conv2d_6 (Conv2D)            (None, 52, 52, 128)       73856     \n",
            "_________________________________________________________________\n",
            "max_pooling2d_6 (MaxPooling2 (None, 26, 26, 128)       0         \n",
            "_________________________________________________________________\n",
            "flatten_2 (Flatten)          (None, 86528)             0         \n",
            "_________________________________________________________________\n",
            "dense_2 (Dense)              (None, 512)               44302848  \n",
            "_________________________________________________________________\n",
            "softmax (Dense)              (None, 2)                 1026      \n",
            "=================================================================\n",
            "Total params: 44,397,122\n",
            "Trainable params: 44,397,122\n",
            "Non-trainable params: 0\n",
            "_________________________________________________________________\n"
          ],
          "name": "stdout"
        }
      ]
    },
    {
      "metadata": {
        "id": "_n0rq8_APBGX",
        "colab_type": "code",
        "outputId": "bd6e08a4-7aa8-416a-961e-f5b8f7f4345d",
        "colab": {
          "base_uri": "https://localhost:8080/",
          "height": 161
        }
      },
      "cell_type": "code",
      "source": [
        "from keras import optimizers\n",
        "from keras.callbacks import EarlyStopping\n",
        "\n",
        "# early_stopping = EarlyStopping(monitor='val_loss', patience=10)\n",
        "\n",
        "model.compile(\n",
        "    loss='sparse_categorical_crossentropy', # loss='binary_crossentropy', # for [0,1] output\n",
        "    optimizer=optimizers.RMSprop(lr=2e-5),\n",
        "#   optimizer='adam',\n",
        "    metrics=['acc'])\n",
        "\n",
        "# model.fit_generator?\n",
        "history = model.fit_generator(train_iterator, \n",
        "                              steps_per_epoch=train_samples // BATCH_SIZE, \n",
        "                              epochs=NUM_EPOCHS,\n",
        "#                               callbacks=[early_stopping],\n",
        "                              validation_data=validation_iterator,\n",
        "                              validation_steps=valid_samples // BATCH_SIZE)"
      ],
      "execution_count": 7,
      "outputs": [
        {
          "output_type": "stream",
          "text": [
            "WARNING:tensorflow:From /usr/local/lib/python3.6/dist-packages/tensorflow/python/ops/math_ops.py:3066: to_int32 (from tensorflow.python.ops.math_ops) is deprecated and will be removed in a future version.\n",
            "Instructions for updating:\n",
            "Use tf.cast instead.\n",
            "Epoch 1/2\n",
            "71/71 [==============================] - 35s 487ms/step - loss: 0.6995 - acc: 0.5370 - val_loss: 0.7121 - val_acc: 0.4688\n",
            "Epoch 2/2\n",
            "71/71 [==============================] - 31s 436ms/step - loss: 0.6672 - acc: 0.5884 - val_loss: 0.6354 - val_acc: 0.7556\n"
          ],
          "name": "stdout"
        }
      ]
    },
    {
      "metadata": {
        "id": "Fnlw0RD3tFyt",
        "colab_type": "code",
        "colab": {}
      },
      "cell_type": "code",
      "source": [
        "# from keras.models import Sequential, Model\n",
        "# from keras import layers\n",
        "\n",
        "# height = 224\n",
        "# width = 224\n",
        "\n",
        "# channels = 3\n",
        "\n",
        "# num_classes = 2\n",
        "\n",
        "# model = Sequential()\n",
        "# model.add(layers.SeparableConv2D(32, 3, activation='relu', input_shape=(height, width, channels,)))\n",
        "# model.add(layers.SeparableConv2D(64, 3, activation='relu'))\n",
        "# model.add(layers.MaxPooling2D(2))\n",
        "\n",
        "# model.add(layers.SeparableConv2D(64, 3, activation='relu'))\n",
        "# model.add(layers.SeparableConv2D(128, 3, activation='relu'))\n",
        "# model.add(layers.MaxPooling2D(2))\n",
        "\n",
        "# model.add(layers.SeparableConv2D(64, 3, activation='relu'))\n",
        "# model.add(layers.SeparableConv2D(128, 3, activation='relu'))\n",
        "# model.add(layers.GlobalAveragePooling2D())\n",
        "\n",
        "# # Dende\n",
        "# # model.add(layers.Flatten())\n",
        "# model.add(layers.BatchNormalization())\n",
        "# model.add(layers.Dense(512, activation='relu'))\n",
        "# model.add(layers.Dropout(0.5))\n",
        "# model.add(layers.Dense(512, activation='relu'))\n",
        "# model.add(layers.Dropout(0.5))\n",
        "# model.add(layers.Dense(1, activation='sigmoid'))"
      ],
      "execution_count": 0,
      "outputs": []
    },
    {
      "metadata": {
        "id": "3UtwxWb-oh9s",
        "colab_type": "code",
        "colab": {}
      },
      "cell_type": "code",
      "source": [
        "# model.save_(os.path.join(work_dir, \"ScratchCNN04.h5\"))"
      ],
      "execution_count": 0,
      "outputs": []
    },
    {
      "metadata": {
        "id": "e8wg6PoxP-yh",
        "colab_type": "code",
        "colab": {
          "base_uri": "https://localhost:8080/",
          "height": 707
        },
        "outputId": "5ad712a6-040e-4d7e-adf1-fe1bc4fdd6d6"
      },
      "cell_type": "code",
      "source": [
        "# plot the history\n",
        "import matplotlib.pyplot as plt\n",
        "\n",
        "acc = history.history['acc']\n",
        "val_acc = history.history['val_acc']\n",
        "loss = history.history['loss']\n",
        "val_loss = history.history['val_loss']\n",
        "\n",
        "epochs = range(len(acc))\n",
        "\n",
        "plt.ylim((0,1))\n",
        "plt.plot(epochs, acc, 'bo', label='Training acc')\n",
        "plt.plot(epochs, val_acc, 'r', label='Validation acc')\n",
        "plt.title('Training and validation accuracy')\n",
        "plt.legend()\n",
        "\n",
        "plt.figure()\n",
        "\n",
        "plt.ylim((0,1))\n",
        "plt.plot(epochs, loss, 'bo', label='Training loss')\n",
        "plt.plot(epochs, val_loss, 'r', label='Validation loss')\n",
        "plt.title('Training and validation loss')\n",
        "plt.legend()\n",
        "\n",
        "plt.show()"
      ],
      "execution_count": 11,
      "outputs": [
        {
          "output_type": "display_data",
          "data": {
            "image/png": "[encoded data removed]",
            "text/plain": [
              "<Figure size 576x396 with 1 Axes>"
            ]
          },
          "metadata": {
            "tags": []
          }
        },
        {
          "output_type": "display_data",
          "data": {
            "image/png": "[encoded data removed]",
            "text/plain": [
              "<Figure size 576x396 with 1 Axes>"
            ]
          },
          "metadata": {
            "tags": []
          }
        }
      ]
    },
    {
      "metadata": {
        "id": "-Nm4BobAmeek",
        "colab_type": "code",
        "colab": {
          "base_uri": "https://localhost:8080/",
          "height": 707
        },
        "outputId": "29b68486-b21d-4673-93ca-f5679d6f01cc"
      },
      "cell_type": "code",
      "source": [
        "import matplotlib.pyplot as plt\n",
        "\n",
        "\n",
        "def smooth_curve(points, factor=0.8):\n",
        "  smoothed_points = []\n",
        "  for point in points:\n",
        "    if smoothed_points:\n",
        "      previous = smoothed_points[-1]\n",
        "      smoothed_points.append(previous * factor + point * (1 - factor))\n",
        "    else:\n",
        "      smoothed_points.append(point)\n",
        "  return smoothed_points\n",
        "\n",
        "plt.ylim((0,1))\n",
        "plt.plot(epochs,\n",
        "         smooth_curve(acc), 'bo', label='Smoothed training acc')\n",
        "plt.plot(epochs,\n",
        "         smooth_curve(val_acc), 'r', label='Smoothed validation acc')\n",
        "plt.title('Training and validation accuracy')\n",
        "plt.legend()\n",
        "\n",
        "plt.figure()\n",
        "plt.ylim((0,1))\n",
        "         \n",
        "plt.plot(epochs,\n",
        "         smooth_curve(loss), 'bo', label='Smoothed training loss')\n",
        "plt.plot(epochs,\n",
        "         smooth_curve(val_loss), 'r', label='Smoothed validation loss')\n",
        "plt.title('Training and validation loss')\n",
        "plt.legend()\n",
        "\n",
        "plt.show()"
      ],
      "execution_count": 14,
      "outputs": [
        {
          "output_type": "display_data",
          "data": {
            "image/png": "[encoded data removed]",
            "text/plain": [
              "<Figure size 576x396 with 1 Axes>"
            ]
          },
          "metadata": {
            "tags": []
          }
        },
        {
          "output_type": "display_data",
          "data": {
            "image/png": "[encoded data removed]",
            "text/plain": [
              "<Figure size 576x396 with 1 Axes>"
            ]
          },
          "metadata": {
            "tags": []
          }
        }
      ]
    },
    {
      "metadata": {
        "id": "qQbGYCERW4oj",
        "colab_type": "code",
        "colab": {}
      },
      "cell_type": "code",
      "source": [
        "results = model.evaluate_generator(test_iterator, steps=22, verbose=1)\n",
        "\n",
        "print(\"test_loss: \", results[0], \" test_acc: \", results[1])"
      ],
      "execution_count": 0,
      "outputs": []
    },
    {
      "metadata": {
        "id": "CekDDP2vKWSh",
        "colab_type": "code",
        "colab": {}
      },
      "cell_type": "code",
      "source": [
        "# really slow.... is train set too big?? or steps per epoch too low"
      ],
      "execution_count": 0,
      "outputs": []
    }
  ]
}